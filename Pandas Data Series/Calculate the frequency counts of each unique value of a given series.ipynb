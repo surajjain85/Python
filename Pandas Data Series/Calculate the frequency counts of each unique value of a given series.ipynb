{
 "cells": [
  {
   "cell_type": "code",
   "execution_count": 1,
   "metadata": {},
   "outputs": [
    {
     "name": "stdout",
     "output_type": "stream",
     "text": [
      "Original Series:\n",
      "0     8\n",
      "1     6\n",
      "2     9\n",
      "3     3\n",
      "4     8\n",
      "5     7\n",
      "6     7\n",
      "7     5\n",
      "8     2\n",
      "9     5\n",
      "10    4\n",
      "11    8\n",
      "12    4\n",
      "13    2\n",
      "14    6\n",
      "15    3\n",
      "16    5\n",
      "17    3\n",
      "18    4\n",
      "19    3\n",
      "20    0\n",
      "21    4\n",
      "22    9\n",
      "23    4\n",
      "24    4\n",
      "25    8\n",
      "26    3\n",
      "27    4\n",
      "28    1\n",
      "29    0\n",
      "30    6\n",
      "31    7\n",
      "32    3\n",
      "33    5\n",
      "34    0\n",
      "35    1\n",
      "36    0\n",
      "37    2\n",
      "38    1\n",
      "39    8\n",
      "dtype: object\n"
     ]
    }
   ],
   "source": [
    "import pandas as pd\n",
    "import numpy as np\n",
    "num_series = pd.Series(np.take(list('0123456789'), np.random.randint(10, size=40)))\n",
    "print(\"Original Series:\")\n",
    "print(num_series)"
   ]
  },
  {
   "cell_type": "code",
   "execution_count": 3,
   "metadata": {},
   "outputs": [
    {
     "data": {
      "text/plain": [
       "4    7\n",
       "3    6\n",
       "8    5\n",
       "0    4\n",
       "5    4\n",
       "1    3\n",
       "2    3\n",
       "7    3\n",
       "6    3\n",
       "9    2\n",
       "dtype: int64"
      ]
     },
     "execution_count": 3,
     "metadata": {},
     "output_type": "execute_result"
    }
   ],
   "source": [
    "result=num_series.value_counts()\n",
    "result"
   ]
  },
  {
   "cell_type": "code",
   "execution_count": null,
   "metadata": {},
   "outputs": [],
   "source": []
  },
  {
   "cell_type": "code",
   "execution_count": null,
   "metadata": {},
   "outputs": [],
   "source": []
  },
  {
   "cell_type": "code",
   "execution_count": null,
   "metadata": {},
   "outputs": [],
   "source": []
  }
 ],
 "metadata": {
  "kernelspec": {
   "display_name": "Python 3",
   "language": "python",
   "name": "python3"
  },
  "language_info": {
   "codemirror_mode": {
    "name": "ipython",
    "version": 3
   },
   "file_extension": ".py",
   "mimetype": "text/x-python",
   "name": "python",
   "nbconvert_exporter": "python",
   "pygments_lexer": "ipython3",
   "version": "3.7.6"
  }
 },
 "nbformat": 4,
 "nbformat_minor": 4
}
