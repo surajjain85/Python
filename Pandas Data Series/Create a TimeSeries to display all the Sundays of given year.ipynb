{
 "cells": [
  {
   "cell_type": "code",
   "execution_count": 1,
   "metadata": {},
   "outputs": [],
   "source": [
    "import pandas as pd"
   ]
  },
  {
   "cell_type": "code",
   "execution_count": 3,
   "metadata": {},
   "outputs": [],
   "source": [
    "result= pd.Series(pd.date_range('2021-01-01',periods=52,freq='W-SUN'))"
   ]
  },
  {
   "cell_type": "code",
   "execution_count": 4,
   "metadata": {},
   "outputs": [
    {
     "name": "stdout",
     "output_type": "stream",
     "text": [
      "all sundays of 2021\n"
     ]
    }
   ],
   "source": [
    "print (\"all sundays of 2021\")"
   ]
  },
  {
   "cell_type": "code",
   "execution_count": 5,
   "metadata": {},
   "outputs": [
    {
     "name": "stdout",
     "output_type": "stream",
     "text": [
      "0    2021-01-03\n",
      "1    2021-01-10\n",
      "2    2021-01-17\n",
      "3    2021-01-24\n",
      "4    2021-01-31\n",
      "5    2021-02-07\n",
      "6    2021-02-14\n",
      "7    2021-02-21\n",
      "8    2021-02-28\n",
      "9    2021-03-07\n",
      "10   2021-03-14\n",
      "11   2021-03-21\n",
      "12   2021-03-28\n",
      "13   2021-04-04\n",
      "14   2021-04-11\n",
      "15   2021-04-18\n",
      "16   2021-04-25\n",
      "17   2021-05-02\n",
      "18   2021-05-09\n",
      "19   2021-05-16\n",
      "20   2021-05-23\n",
      "21   2021-05-30\n",
      "22   2021-06-06\n",
      "23   2021-06-13\n",
      "24   2021-06-20\n",
      "25   2021-06-27\n",
      "26   2021-07-04\n",
      "27   2021-07-11\n",
      "28   2021-07-18\n",
      "29   2021-07-25\n",
      "30   2021-08-01\n",
      "31   2021-08-08\n",
      "32   2021-08-15\n",
      "33   2021-08-22\n",
      "34   2021-08-29\n",
      "35   2021-09-05\n",
      "36   2021-09-12\n",
      "37   2021-09-19\n",
      "38   2021-09-26\n",
      "39   2021-10-03\n",
      "40   2021-10-10\n",
      "41   2021-10-17\n",
      "42   2021-10-24\n",
      "43   2021-10-31\n",
      "44   2021-11-07\n",
      "45   2021-11-14\n",
      "46   2021-11-21\n",
      "47   2021-11-28\n",
      "48   2021-12-05\n",
      "49   2021-12-12\n",
      "50   2021-12-19\n",
      "51   2021-12-26\n",
      "dtype: datetime64[ns]\n"
     ]
    }
   ],
   "source": [
    "print(result)"
   ]
  },
  {
   "cell_type": "code",
   "execution_count": null,
   "metadata": {},
   "outputs": [],
   "source": []
  },
  {
   "cell_type": "code",
   "execution_count": null,
   "metadata": {},
   "outputs": [],
   "source": []
  }
 ],
 "metadata": {
  "kernelspec": {
   "display_name": "Python 3",
   "language": "python",
   "name": "python3"
  },
  "language_info": {
   "codemirror_mode": {
    "name": "ipython",
    "version": 3
   },
   "file_extension": ".py",
   "mimetype": "text/x-python",
   "name": "python",
   "nbconvert_exporter": "python",
   "pygments_lexer": "ipython3",
   "version": "3.7.6"
  }
 },
 "nbformat": 4,
 "nbformat_minor": 4
}
