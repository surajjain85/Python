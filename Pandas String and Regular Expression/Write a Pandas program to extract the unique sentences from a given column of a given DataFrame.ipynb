{
 "cells": [
  {
   "cell_type": "code",
   "execution_count": 1,
   "metadata": {},
   "outputs": [
    {
     "name": "stdout",
     "output_type": "stream",
     "text": [
      "Original DataFrame:\n"
     ]
    },
    {
     "data": {
      "text/html": [
       "<div>\n",
       "<style scoped>\n",
       "    .dataframe tbody tr th:only-of-type {\n",
       "        vertical-align: middle;\n",
       "    }\n",
       "\n",
       "    .dataframe tbody tr th {\n",
       "        vertical-align: top;\n",
       "    }\n",
       "\n",
       "    .dataframe thead th {\n",
       "        text-align: right;\n",
       "    }\n",
       "</style>\n",
       "<table border=\"1\" class=\"dataframe\">\n",
       "  <thead>\n",
       "    <tr style=\"text-align: right;\">\n",
       "      <th></th>\n",
       "      <th>company_code</th>\n",
       "      <th>date_of_sale</th>\n",
       "      <th>address</th>\n",
       "    </tr>\n",
       "  </thead>\n",
       "  <tbody>\n",
       "    <tr>\n",
       "      <th>0</th>\n",
       "      <td>Abcd</td>\n",
       "      <td>12/05/2002</td>\n",
       "      <td>9910 Surrey Avenue\\n9910 Surrey Avenue</td>\n",
       "    </tr>\n",
       "    <tr>\n",
       "      <th>1</th>\n",
       "      <td>EFGF</td>\n",
       "      <td>16/02/1999</td>\n",
       "      <td>92 N. Bishop Avenue</td>\n",
       "    </tr>\n",
       "    <tr>\n",
       "      <th>2</th>\n",
       "      <td>zefsalf</td>\n",
       "      <td>05/09/1998</td>\n",
       "      <td>9910 Golden Star Avenue</td>\n",
       "    </tr>\n",
       "    <tr>\n",
       "      <th>3</th>\n",
       "      <td>sdfslew</td>\n",
       "      <td>12/02/2022</td>\n",
       "      <td>102 Dunbar St.\\n102 Dunbar St.</td>\n",
       "    </tr>\n",
       "    <tr>\n",
       "      <th>4</th>\n",
       "      <td>zekfsdf</td>\n",
       "      <td>15/09/1997</td>\n",
       "      <td>17 West Livingston Court</td>\n",
       "    </tr>\n",
       "  </tbody>\n",
       "</table>\n",
       "</div>"
      ],
      "text/plain": [
       "  company_code date_of_sale                                 address\n",
       "0         Abcd   12/05/2002  9910 Surrey Avenue\\n9910 Surrey Avenue\n",
       "1         EFGF   16/02/1999                     92 N. Bishop Avenue\n",
       "2      zefsalf   05/09/1998                 9910 Golden Star Avenue\n",
       "3      sdfslew   12/02/2022          102 Dunbar St.\\n102 Dunbar St.\n",
       "4      zekfsdf   15/09/1997                17 West Livingston Court"
      ]
     },
     "execution_count": 1,
     "metadata": {},
     "output_type": "execute_result"
    }
   ],
   "source": [
    "import pandas as pd\n",
    "import re as re\n",
    "df = pd.DataFrame({\n",
    "    'company_code': ['Abcd','EFGF', 'zefsalf', 'sdfslew', 'zekfsdf'],\n",
    "    'date_of_sale': ['12/05/2002','16/02/1999','05/09/1998','12/02/2022','15/09/1997'],\n",
    "    'address': ['9910 Surrey Avenue\\n9910 Surrey Avenue','92 N. Bishop Avenue','9910 Golden Star Avenue', '102 Dunbar St.\\n102 Dunbar St.', '17 West Livingston Court']\n",
    "})\n",
    "\n",
    "print(\"Original DataFrame:\")\n",
    "df"
   ]
  },
  {
   "cell_type": "code",
   "execution_count": 2,
   "metadata": {},
   "outputs": [],
   "source": [
    "def find_unique(text):\n",
    "    result=re.findall(r'(?sm)(^[^\\r\\n]+$)(?!.*^\\1$)', text)\n",
    "    return result"
   ]
  },
  {
   "cell_type": "code",
   "execution_count": 3,
   "metadata": {},
   "outputs": [
    {
     "data": {
      "text/html": [
       "<div>\n",
       "<style scoped>\n",
       "    .dataframe tbody tr th:only-of-type {\n",
       "        vertical-align: middle;\n",
       "    }\n",
       "\n",
       "    .dataframe tbody tr th {\n",
       "        vertical-align: top;\n",
       "    }\n",
       "\n",
       "    .dataframe thead th {\n",
       "        text-align: right;\n",
       "    }\n",
       "</style>\n",
       "<table border=\"1\" class=\"dataframe\">\n",
       "  <thead>\n",
       "    <tr style=\"text-align: right;\">\n",
       "      <th></th>\n",
       "      <th>company_code</th>\n",
       "      <th>date_of_sale</th>\n",
       "      <th>address</th>\n",
       "      <th>unique_sen</th>\n",
       "    </tr>\n",
       "  </thead>\n",
       "  <tbody>\n",
       "    <tr>\n",
       "      <th>0</th>\n",
       "      <td>Abcd</td>\n",
       "      <td>12/05/2002</td>\n",
       "      <td>9910 Surrey Avenue\\n9910 Surrey Avenue</td>\n",
       "      <td>[9910 Surrey Avenue]</td>\n",
       "    </tr>\n",
       "    <tr>\n",
       "      <th>1</th>\n",
       "      <td>EFGF</td>\n",
       "      <td>16/02/1999</td>\n",
       "      <td>92 N. Bishop Avenue</td>\n",
       "      <td>[92 N. Bishop Avenue]</td>\n",
       "    </tr>\n",
       "    <tr>\n",
       "      <th>2</th>\n",
       "      <td>zefsalf</td>\n",
       "      <td>05/09/1998</td>\n",
       "      <td>9910 Golden Star Avenue</td>\n",
       "      <td>[9910 Golden Star Avenue]</td>\n",
       "    </tr>\n",
       "    <tr>\n",
       "      <th>3</th>\n",
       "      <td>sdfslew</td>\n",
       "      <td>12/02/2022</td>\n",
       "      <td>102 Dunbar St.\\n102 Dunbar St.</td>\n",
       "      <td>[102 Dunbar St.]</td>\n",
       "    </tr>\n",
       "    <tr>\n",
       "      <th>4</th>\n",
       "      <td>zekfsdf</td>\n",
       "      <td>15/09/1997</td>\n",
       "      <td>17 West Livingston Court</td>\n",
       "      <td>[17 West Livingston Court]</td>\n",
       "    </tr>\n",
       "  </tbody>\n",
       "</table>\n",
       "</div>"
      ],
      "text/plain": [
       "  company_code date_of_sale                                 address  \\\n",
       "0         Abcd   12/05/2002  9910 Surrey Avenue\\n9910 Surrey Avenue   \n",
       "1         EFGF   16/02/1999                     92 N. Bishop Avenue   \n",
       "2      zefsalf   05/09/1998                 9910 Golden Star Avenue   \n",
       "3      sdfslew   12/02/2022          102 Dunbar St.\\n102 Dunbar St.   \n",
       "4      zekfsdf   15/09/1997                17 West Livingston Court   \n",
       "\n",
       "                   unique_sen  \n",
       "0        [9910 Surrey Avenue]  \n",
       "1       [92 N. Bishop Avenue]  \n",
       "2   [9910 Golden Star Avenue]  \n",
       "3            [102 Dunbar St.]  \n",
       "4  [17 West Livingston Court]  "
      ]
     },
     "execution_count": 3,
     "metadata": {},
     "output_type": "execute_result"
    }
   ],
   "source": [
    "df['unique_sen']=df['address'].apply(lambda x: find_unique(x))\n",
    "df"
   ]
  },
  {
   "cell_type": "code",
   "execution_count": null,
   "metadata": {},
   "outputs": [],
   "source": []
  },
  {
   "cell_type": "code",
   "execution_count": null,
   "metadata": {},
   "outputs": [],
   "source": []
  }
 ],
 "metadata": {
  "kernelspec": {
   "display_name": "Python 3",
   "language": "python",
   "name": "python3"
  },
  "language_info": {
   "codemirror_mode": {
    "name": "ipython",
    "version": 3
   },
   "file_extension": ".py",
   "mimetype": "text/x-python",
   "name": "python",
   "nbconvert_exporter": "python",
   "pygments_lexer": "ipython3",
   "version": "3.7.6"
  }
 },
 "nbformat": 4,
 "nbformat_minor": 4
}
