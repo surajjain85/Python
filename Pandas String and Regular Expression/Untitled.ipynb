{
 "cells": [
  {
   "cell_type": "markdown",
   "metadata": {},
   "source": [
    "Write a Pandas program to convert all the string values to upper, lower cases in a given pandas series. Also find the length of the string values."
   ]
  },
  {
   "cell_type": "code",
   "execution_count": 1,
   "metadata": {},
   "outputs": [
    {
     "name": "stdout",
     "output_type": "stream",
     "text": [
      "Original series:\n"
     ]
    },
    {
     "data": {
      "text/plain": [
       "0         X\n",
       "1         Y\n",
       "2         Z\n",
       "3      Aaba\n",
       "4      Baca\n",
       "5       NaN\n",
       "6      CABA\n",
       "7      None\n",
       "8      bird\n",
       "9     horse\n",
       "10      dog\n",
       "dtype: object"
      ]
     },
     "execution_count": 1,
     "metadata": {},
     "output_type": "execute_result"
    }
   ],
   "source": [
    "import pandas as pd\n",
    "import numpy as np\n",
    "s = pd.Series(['X', 'Y', 'Z', 'Aaba', 'Baca', np.nan, 'CABA', None, 'bird', 'horse', 'dog'])\n",
    "print(\"Original series:\")\n",
    "s"
   ]
  },
  {
   "cell_type": "code",
   "execution_count": 2,
   "metadata": {},
   "outputs": [
    {
     "name": "stdout",
     "output_type": "stream",
     "text": [
      "to uppercase\n"
     ]
    },
    {
     "data": {
      "text/plain": [
       "0         X\n",
       "1         Y\n",
       "2         Z\n",
       "3      AABA\n",
       "4      BACA\n",
       "5       NaN\n",
       "6      CABA\n",
       "7      None\n",
       "8      BIRD\n",
       "9     HORSE\n",
       "10      DOG\n",
       "dtype: object"
      ]
     },
     "execution_count": 2,
     "metadata": {},
     "output_type": "execute_result"
    }
   ],
   "source": [
    "print('to uppercase')\n",
    "s.str.upper()"
   ]
  },
  {
   "cell_type": "code",
   "execution_count": 3,
   "metadata": {},
   "outputs": [
    {
     "name": "stdout",
     "output_type": "stream",
     "text": [
      "to lower\n"
     ]
    },
    {
     "data": {
      "text/plain": [
       "0         x\n",
       "1         y\n",
       "2         z\n",
       "3      aaba\n",
       "4      baca\n",
       "5       NaN\n",
       "6      caba\n",
       "7      None\n",
       "8      bird\n",
       "9     horse\n",
       "10      dog\n",
       "dtype: object"
      ]
     },
     "execution_count": 3,
     "metadata": {},
     "output_type": "execute_result"
    }
   ],
   "source": [
    "print('to lower')\n",
    "s.str.lower()"
   ]
  },
  {
   "cell_type": "code",
   "execution_count": 5,
   "metadata": {},
   "outputs": [
    {
     "name": "stdout",
     "output_type": "stream",
     "text": [
      "check the length\n"
     ]
    },
    {
     "data": {
      "text/plain": [
       "0     1.0\n",
       "1     1.0\n",
       "2     1.0\n",
       "3     4.0\n",
       "4     4.0\n",
       "5     NaN\n",
       "6     4.0\n",
       "7     NaN\n",
       "8     4.0\n",
       "9     5.0\n",
       "10    3.0\n",
       "dtype: float64"
      ]
     },
     "execution_count": 5,
     "metadata": {},
     "output_type": "execute_result"
    }
   ],
   "source": [
    "print('check the length')\n",
    "s.str.len()"
   ]
  }
 ],
 "metadata": {
  "kernelspec": {
   "display_name": "Python 3",
   "language": "python",
   "name": "python3"
  },
  "language_info": {
   "codemirror_mode": {
    "name": "ipython",
    "version": 3
   },
   "file_extension": ".py",
   "mimetype": "text/x-python",
   "name": "python",
   "nbconvert_exporter": "python",
   "pygments_lexer": "ipython3",
   "version": "3.7.6"
  }
 },
 "nbformat": 4,
 "nbformat_minor": 4
}
