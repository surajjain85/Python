{
 "cells": [
  {
   "cell_type": "markdown",
   "metadata": {},
   "source": [
    "Write a Pandas program to create a whole month of dates in daily frequencies. Also find the maximum, minimum timestamp and indexs"
   ]
  },
  {
   "cell_type": "code",
   "execution_count": 1,
   "metadata": {},
   "outputs": [
    {
     "name": "stdout",
     "output_type": "stream",
     "text": [
      "Month of December 2020:\n",
      "0    2021-01-01\n",
      "1    2021-01-02\n",
      "2    2021-01-03\n",
      "3    2021-01-04\n",
      "4    2021-01-05\n",
      "5    2021-01-06\n",
      "6    2021-01-07\n",
      "7    2021-01-08\n",
      "8    2021-01-09\n",
      "9    2021-01-10\n",
      "10   2021-01-11\n",
      "11   2021-01-12\n",
      "12   2021-01-13\n",
      "13   2021-01-14\n",
      "14   2021-01-15\n",
      "15   2021-01-16\n",
      "16   2021-01-17\n",
      "17   2021-01-18\n",
      "18   2021-01-19\n",
      "19   2021-01-20\n",
      "20   2021-01-21\n",
      "21   2021-01-22\n",
      "22   2021-01-23\n",
      "23   2021-01-24\n",
      "24   2021-01-25\n",
      "25   2021-01-26\n",
      "26   2021-01-27\n",
      "27   2021-01-28\n",
      "28   2021-01-29\n",
      "29   2021-01-30\n",
      "30   2021-01-31\n",
      "dtype: datetime64[ns]\n"
     ]
    }
   ],
   "source": [
    "import pandas as pd\n",
    "#dates = pd.Series(pd.date_range('2020-12-01',periods=31, freq='D'))\n",
    "dates=pd.Series(pd.date_range('2021-01-01',periods=31,freq='d'))\n",
    "print(\"Month of December 2020:\")\n",
    "print(dates)"
   ]
  },
  {
   "cell_type": "code",
   "execution_count": 3,
   "metadata": {},
   "outputs": [
    {
     "name": "stdout",
     "output_type": "stream",
     "text": [
      "\n",
      " Maximum Date:  2021-01-31 00:00:00\n"
     ]
    }
   ],
   "source": [
    "print(\"\\n Maximum Date: \", dates.max())"
   ]
  },
  {
   "cell_type": "code",
   "execution_count": 4,
   "metadata": {},
   "outputs": [
    {
     "name": "stdout",
     "output_type": "stream",
     "text": [
      "\n",
      " Minimum Date:  2021-01-01 00:00:00\n"
     ]
    }
   ],
   "source": [
    "print(\"\\n Minimum Date: \", dates.min())"
   ]
  },
  {
   "cell_type": "code",
   "execution_count": 6,
   "metadata": {},
   "outputs": [
    {
     "name": "stdout",
     "output_type": "stream",
     "text": [
      "\n",
      " Maximum index:  30\n",
      "\n",
      " minimum index:  0\n"
     ]
    }
   ],
   "source": [
    "print(\"\\n Maximum index: \", dates.idxmax())\n",
    "print(\"\\n minimum index: \", dates.idxmin())"
   ]
  },
  {
   "cell_type": "code",
   "execution_count": null,
   "metadata": {},
   "outputs": [],
   "source": []
  }
 ],
 "metadata": {
  "kernelspec": {
   "display_name": "Python 3",
   "language": "python",
   "name": "python3"
  },
  "language_info": {
   "codemirror_mode": {
    "name": "ipython",
    "version": 3
   },
   "file_extension": ".py",
   "mimetype": "text/x-python",
   "name": "python",
   "nbconvert_exporter": "python",
   "pygments_lexer": "ipython3",
   "version": "3.7.6"
  }
 },
 "nbformat": 4,
 "nbformat_minor": 4
}
